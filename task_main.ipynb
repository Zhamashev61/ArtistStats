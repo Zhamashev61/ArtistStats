{
 "cells": [
  {
   "cell_type": "code",
   "execution_count": 1,
   "id": "ce86a5d7",
   "metadata": {},
   "outputs": [],
   "source": [
    "import requests, json, urllib.parse\n",
    "\n",
    "base_url = 'https://itunes.apple.com/search'\n",
    "\n",
    "artist = 'Yeat'\n",
    "\n",
    "params = {\n",
    "    'term': artist,\n",
    "    'limit': 200,\n",
    "    'media': 'music',\n",
    "    'entity': 'song',\n",
    "    'attribute': 'artistTerm'\n",
    "}\n",
    "\n",
    "response = requests.get(f\"{base_url}?{urllib.parse.urlencode(params)}\")\n",
    "\n",
    "data = json.loads(response.text)\n",
    "data = data['results']"
   ]
  },
  {
   "cell_type": "code",
   "execution_count": 2,
   "id": "644274f7",
   "metadata": {},
   "outputs": [],
   "source": [
    "import dateutil.parser\n",
    "\n",
    "# Преобразование строки с датой в объект даты\n",
    "# **x - скопировать все поля из объекта x\n",
    "data = map(lambda x: {**x, 'releaseDate': dateutil.parser.isoparse(x['releaseDate'])}, data)\n",
    "data = list(data)"
   ]
  },
  {
   "cell_type": "code",
   "execution_count": 3,
   "id": "9d5cfc91",
   "metadata": {},
   "outputs": [],
   "source": [
    "# Убираем лишние поля\n",
    "data = map(lambda x: {\n",
    "    'artistId': x['artistId'],\n",
    "    'collectionId': x['collectionId'],\n",
    "    'trackId': x['trackId'],\n",
    "    'artistName': x['artistName'],\n",
    "    'collectionName': x['collectionCensoredName'],\n",
    "    'trackName': x['trackCensoredName'],\n",
    "    'collectionPrice': x['collectionPrice'],\n",
    "    'trackPrice': x['trackPrice'],\n",
    "    'releaseDate': x['releaseDate'],\n",
    "    'collectionExplicitness': x['collectionExplicitness'],\n",
    "    'trackExplicitness': x['trackExplicitness'],\n",
    "    'discCount': x['discCount'],\n",
    "    'discNumber': x['discNumber'],\n",
    "    'trackCount': x['trackCount'],\n",
    "    'trackNumber': x['trackNumber'],\n",
    "    'trackTimeMillis': x['trackTimeMillis'],\n",
    "    'country': x['country'],\n",
    "    'currency': x['currency'],\n",
    "    'primaryGenreName': x['primaryGenreName'],\n",
    "    'isStreamable': x['isStreamable']\n",
    "}, data)\n",
    "data = list(data)\n",
    "\n",
    "# Фильтрация с целью оставить искомого артиста\n",
    "data = filter(lambda x: artist.lower() in x['artistName'].lower(), data)\n",
    "data = list(data)"
   ]
  },
  {
   "cell_type": "code",
   "execution_count": 4,
   "id": "454374f3",
   "metadata": {},
   "outputs": [],
   "source": [
    "# Функция переводящая миллисекунды в читаемый формат времени\n",
    "def convert_millis(millis: int) -> str:\n",
    "    total_seconds = millis // 1000\n",
    "    seconds = total_seconds % 60\n",
    "    minutes = (total_seconds // 60) % 60\n",
    "    hours = (total_seconds // (60 * 60))\n",
    "    return f\"{hours}H{minutes}M{seconds}S\""
   ]
  },
  {
   "cell_type": "code",
   "execution_count": 5,
   "id": "c570552f",
   "metadata": {},
   "outputs": [
    {
     "name": "stdout",
     "output_type": "stream",
     "text": [
      "Artist Name:  Yeat\n",
      "Track Amount:  127\n",
      "Popular Genre:  Hip-Hop/Rap\n",
      "Album Amount:  25\n",
      "Total song time:  6H1M46S\n",
      "Mean song time:  0H2M48S\n",
      "Median song time:  0H2M43S\n",
      "Longest name:  Lying 4 fun\n",
      "Longest time:  0H5M3S\n",
      "Shortest name:  Cmon\n",
      "Shortest time:  0H1M42S\n",
      "Total song price:  254.80999999999952\n",
      "Mean song price:  1.2740500000000001\n",
      "Median song price:  1.29\n",
      "Expensive song name:  Monëy so big\n",
      "Most expensive song price:  1.29\n",
      "Cheapest song name:  U could tëll\n",
      "Cheapest song price:  -1.0\n"
     ]
    }
   ],
   "source": [
    "from statistics import mean, median\n",
    "result = {}\n",
    "result['Artist Name'] = data[0]['artistName']\n",
    "result['Track Amount'] = len(set(list(map(lambda x: x['trackName'], data))))\n",
    "result['Popular Genre'] = data[0]['primaryGenreName']\n",
    "result['Album Amount'] = len(set(list(map(lambda x: x['collectionId'], data))))\n",
    "\n",
    "result['Total song time'] = convert_millis(sum(set(list(map(lambda x: x['trackTimeMillis'], data)))))\n",
    "result['Mean song time'] = convert_millis(mean(set(list(map(lambda x: x['trackTimeMillis'], data)))))\n",
    "result['Median song time'] = convert_millis(median(sorted(set(list(map(lambda x: x['trackTimeMillis'], data))))))\n",
    "result['Longest name'] = max(data, key=lambda x: x['trackTimeMillis'])['trackName']\n",
    "result['Longest time'] = convert_millis(max(data, key=lambda x: x['trackTimeMillis'])['trackTimeMillis'])\n",
    "result['Shortest name'] = min(data, key=lambda x: x['trackTimeMillis'])['trackName']\n",
    "result['Shortest time'] = convert_millis(min(data, key=lambda x: x['trackTimeMillis'])['trackTimeMillis'])\n",
    "\n",
    "result['Total song price'] = sum(list(map(lambda x: x['trackPrice'], data)))\n",
    "result['Mean song price'] = mean((list(map(lambda x: x['trackPrice'], data))))\n",
    "result['Median song price'] = median(sorted((list(map(lambda x: x['trackPrice'], data)))))\n",
    "result['Expensive song name'] = max(data, key=lambda x: x['trackPrice'])['trackName']\n",
    "result['Most expensive song price'] = max(data, key=lambda x: x['trackPrice'])['trackPrice']\n",
    "result['Cheapest song name'] = min(data, key=lambda x: x['trackPrice'])['trackName']\n",
    "result['Cheapest song price'] = min(data, key=lambda x: x['trackPrice'])['trackPrice']\n",
    "\n",
    "for key, value in result.items():\n",
    "    print(key + ': ', value)"
   ]
  },
  {
   "cell_type": "code",
   "execution_count": 8,
   "id": "c76d4d74",
   "metadata": {},
   "outputs": [
    {
     "name": "stdout",
     "output_type": "stream",
     "text": [
      "{'Euphoria Season 2 (An HBO Original Series Soundtrack)', 'Number 1 - Single', 'Wake Up Call', 'Gët Busy - Single', 'Still countin - Single', 'Different Creature', '2 Alivë', 'hollon - Single', 'Trëndi - EP', 'Alivë', '4L', 'Lyfë', 'Rich Minion - Single', 'Up 2 Më', 'Cali - Single', 'Flashey - Single', 'We All We Got - EP', 'Loot (feat. Jban$2Turnt) - Single', 'Talk - Single', '2 Alivë (Geëk Pack)', 'Deep Blue Strips - Single'}\n",
      "{1642621828, 1643750030, 1612542990, 1578332050, 1645618711, 1567264413, 1616759853, 1473163575, 1425990845, 1602105919, 1607943745, 1583678146, 1638237258, 1612392011, 1576616525, 1576703058, 1436670931, 1645003745, 1448938469, 1609701608, 1616737518, 1469899760, 1629795061, 1583630326, 1634322933}\n",
      "['Loot (feat. Jban$2Turnt) - Single', 'Deep Blue Strips - Single', 'Wake Up Call', 'Number 1 - Single', 'Different Creature', 'Cali - Single', '4L', 'Alivë', 'Trëndi - EP', 'Gët Busy - Single', 'Up 2 Më', 'Flashey - Single', 'Still countin - Single', '2 Alivë', 'Euphoria Season 2 (An HBO Original Series Soundtrack)', '2 Alivë', '2 Alivë (Geëk Pack)', '2 Alivë (Geëk Pack)', 'Rich Minion - Single', 'hollon - Single', 'We All We Got - EP', 'Talk - Single', 'Lyfë', 'Talk - Single', 'Lyfë']\n"
     ]
    }
   ],
   "source": [
    "from itertools import groupby\n",
    "\n",
    "album_name = set(list(map(lambda x: x['collectionName'], data)))\n",
    "album_id = set(list(map(lambda x: x['collectionId'], data)))\n",
    "\n",
    "print(album_name)\n",
    "print(album_id)\n",
    "\n",
    "collection_id_extractor = lambda x: x['collectionId']\n",
    "\n",
    "sorted_by_album = sorted(data, key=collection_id_extractor)\n",
    "album_groups = {}\n",
    "album_names = {}\n",
    "\n",
    "for album_id, songs in groupby(sorted_by_album, key=collection_id_extractor):\n",
    "    songs = list(songs)\n",
    "    album_groups[album_id] = songs \n",
    "    album_names[album_id] = songs[0]['collectionName']\n",
    "\n",
    "# Удаление переменной, действие опционально\n",
    "del sorted_by_album\n",
    "\n",
    "print(list(album_names.values()))"
   ]
  },
  {
   "cell_type": "code",
   "execution_count": 47,
   "id": "85733872",
   "metadata": {},
   "outputs": [
    {
     "name": "stdout",
     "output_type": "stream",
     "text": [
      "Album Name:  Lyfë\n",
      "Track Amount:  12\n",
      "Primary Genre:  Hip-Hop/Rap\n",
      "Album Release:  2022-09-09 12:00:00+00:00\n",
      "Total song time:  0H34M14S\n",
      "Mean song time:  0H2M51S\n",
      "Median song time:  0H2M53S\n",
      "Longest name:  Comë on\n",
      "Longest time:  0H3M24S\n",
      "Shortest name:  Wat it feel lykë\n",
      "Shortest time:  0H2M10S\n",
      "Total song price:  15.479999999999997\n",
      "Mean song price:  1.29\n",
      "Median song price:  1.29\n",
      "Expensive song name:  Flawlëss (feat. Lil Uzi Vert)\n",
      "Most expensive song price:  1.29\n",
      "Cheapest song name:  Flawlëss (feat. Lil Uzi Vert)\n",
      "Cheapest song price:  1.29\n"
     ]
    }
   ],
   "source": [
    "from statistics import mean, median\n",
    "result2 = {}\n",
    "\n",
    "album = album_groups[1643750030]\n",
    "\n",
    "result2['Album Name'] = album_names[1643750030]\n",
    "result2['Track Amount'] = len(set(list(map(lambda x: x['trackName'], album))))\n",
    "result2['Primary Genre'] = list(map(lambda x: x['primaryGenreName'], album))[0]\n",
    "result2['Album Release'] = album[0]['releaseDate']\n",
    "\n",
    "result2['Total song time'] = convert_millis(sum(set(list(map(lambda x: x['trackTimeMillis'], album)))))\n",
    "result2['Mean song time'] = convert_millis(mean(set(list(map(lambda x: x['trackTimeMillis'], album)))))\n",
    "result2['Median song time'] = convert_millis(int(median(sorted(set(list(map(lambda x: x['trackTimeMillis'], album)))))))\n",
    "result2['Longest name'] = max(album, key=lambda x: x['trackTimeMillis'])['trackName']\n",
    "result2['Longest time'] = convert_millis(max(album, key=lambda x: x['trackTimeMillis'])['trackTimeMillis'])\n",
    "result2['Shortest name'] = min(album, key=lambda x: x['trackTimeMillis'])['trackName']\n",
    "result2['Shortest time'] = convert_millis(min(album, key=lambda x: x['trackTimeMillis'])['trackTimeMillis'])\n",
    "\n",
    "result2['Total song price'] = sum(list(map(lambda x: x['trackPrice'], album)))\n",
    "result2['Mean song price'] = mean((list(map(lambda x: x['trackPrice'], album))))\n",
    "result2['Median song price'] = median(sorted((list(map(lambda x: x['trackPrice'], album)))))\n",
    "result2['Expensive song name'] = max(album, key=lambda x: x['trackPrice'])['trackName']\n",
    "result2['Most expensive song price'] = max(album, key=lambda x: x['trackPrice'])['trackPrice']\n",
    "result2['Cheapest song name'] = min(album, key=lambda x: x['trackPrice'])['trackName']\n",
    "result2['Cheapest song price'] = min(album, key=lambda x: x['trackPrice'])['trackPrice']\n",
    "\n",
    "for key, value in result2.items():\n",
    "    print(key + ': ', value)"
   ]
  },
  {
   "cell_type": "code",
   "execution_count": null,
   "id": "9cf49c36",
   "metadata": {},
   "outputs": [],
   "source": []
  },
  {
   "cell_type": "code",
   "execution_count": null,
   "id": "cc3d4172",
   "metadata": {},
   "outputs": [],
   "source": []
  }
 ],
 "metadata": {
  "kernelspec": {
   "display_name": "Python 3 (ipykernel)",
   "language": "python",
   "name": "python3"
  },
  "language_info": {
   "codemirror_mode": {
    "name": "ipython",
    "version": 3
   },
   "file_extension": ".py",
   "mimetype": "text/x-python",
   "name": "python",
   "nbconvert_exporter": "python",
   "pygments_lexer": "ipython3",
   "version": "3.9.12"
  }
 },
 "nbformat": 4,
 "nbformat_minor": 5
}
